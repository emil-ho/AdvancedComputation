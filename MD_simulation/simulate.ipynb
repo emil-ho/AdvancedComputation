{
 "cells": [
  {
   "cell_type": "code",
   "execution_count": 5,
   "metadata": {},
   "outputs": [
    {
     "name": "stderr",
     "output_type": "stream",
     "text": [
      "100%|██████████| 9999/9999 [00:51<00:00, 195.85it/s]\n"
     ]
    }
   ],
   "source": [
    "'This module executes a simulation. User input is skipped for testing purposes'\n",
    "# from MD_simulation.animation import POSITIONS\n",
    "from coordinates import *\n",
    "from neighbors2 import *\n",
    "from verlet import *\n",
    "from verlet_slow import *\n",
    "from fake_inputs import *\n",
    "import os\n",
    "\n",
    "SAVEDIR = os.getcwd() + '/files'\n",
    "NUMBER_FCC_UNITS = 3\n",
    "\n",
    "positions_ini = initialize_positions(NUMBER_FCC_UNITS, REDUCED_DENSITY, see_atoms=False, savedir=SAVEDIR)\n",
    "velocities_ini = initialize_velocities(positions_ini, reduced_temperature=REDUCED_TEMPERATURE, savedir=SAVEDIR)\n",
    "# plot_velocity_hist(velocities_ini, False)\n",
    "\n",
    "TIMESTEP = 0.0001\n",
    "N_STEPS = 10_000\n",
    "\n",
    "res = do_md(positions_ini, velocities_ini, dt=TIMESTEP, n_steps=N_STEPS)\n",
    "#res2 = do_md1(positions_ini, velocities_ini, dt=TIMESTEP, n_steps=N_STEPS)\n",
    "\n",
    "x_traj, v_traj, pot, kin, forc = res\n",
    "#x_traj2, v_traj2, pot2, kin2, forc2 = res2"
   ]
  },
  {
   "cell_type": "code",
   "execution_count": 6,
   "metadata": {},
   "outputs": [
    {
     "data": {
      "image/png": "[encoded data removed]",
      "text/plain": [
       "<Figure size 432x288 with 1 Axes>"
      ]
     },
     "metadata": {
      "needs_background": "light"
     },
     "output_type": "display_data"
    }
   ],
   "source": [
    "steparr = np.arange(N_STEPS)\n",
    "\n",
    "# Plot energy\n",
    "plt.plot(steparr, pot, label=\"$E_\\mathrm{pot}$\")\n",
    "plt.plot(steparr, kin, label=\"$E_\\mathrm{kin}$\")\n",
    "plt.plot(steparr, pot + kin, label=\"$E_\\mathrm{pot} + E_\\mathrm{kin}$\")\n",
    "plt.legend()\n",
    "plt.xlabel(\"step\")\n",
    "plt.ylabel(\"Energy\")\n",
    "plt.show()"
   ]
  },
  {
   "cell_type": "code",
   "execution_count": 2,
   "metadata": {},
   "outputs": [
    {
     "name": "stderr",
     "output_type": "stream",
     "text": [
      "100%|██████████| 99/99 [00:00<00:00, 5606.15it/s]\n"
     ]
    },
    {
     "name": "stdout",
     "output_type": "stream",
     "text": [
      "56.9 ms ± 0 ns per loop (mean ± std. dev. of 1 run, 1 loop each)\n"
     ]
    },
    {
     "name": "stderr",
     "output_type": "stream",
     "text": [
      "100%|██████████| 99/99 [00:00<00:00, 6666.60it/s]\n"
     ]
    },
    {
     "name": "stdout",
     "output_type": "stream",
     "text": [
      "16.7 ms ± 0 ns per loop (mean ± std. dev. of 1 run, 1 loop each)\n"
     ]
    },
    {
     "name": "stderr",
     "output_type": "stream",
     "text": [
      "100%|██████████| 99/99 [00:00<00:00, 4029.62it/s]\n"
     ]
    },
    {
     "name": "stdout",
     "output_type": "stream",
     "text": [
      "26.5 ms ± 0 ns per loop (mean ± std. dev. of 1 run, 1 loop each)\n",
      "vor dem for loop\n"
     ]
    },
    {
     "name": "stderr",
     "output_type": "stream",
     "text": [
      "100%|██████████| 99/99 [00:00<00:00, 3639.29it/s]\n"
     ]
    },
    {
     "name": "stdout",
     "output_type": "stream",
     "text": [
      "28.8 ms ± 0 ns per loop (mean ± std. dev. of 1 run, 1 loop each)\n"
     ]
    },
    {
     "name": "stderr",
     "output_type": "stream",
     "text": [
      "100%|██████████| 99/99 [00:00<00:00, 112.37it/s]\n"
     ]
    },
    {
     "name": "stdout",
     "output_type": "stream",
     "text": [
      "892 ms ± 0 ns per loop (mean ± std. dev. of 1 run, 1 loop each)\n"
     ]
    },
    {
     "name": "stderr",
     "output_type": "stream",
     "text": [
      "100%|██████████| 99/99 [00:00<00:00, 173.00it/s]\n"
     ]
    },
    {
     "name": "stdout",
     "output_type": "stream",
     "text": [
      "579 ms ± 0 ns per loop (mean ± std. dev. of 1 run, 1 loop each)\n"
     ]
    },
    {
     "name": "stderr",
     "output_type": "stream",
     "text": [
      "100%|██████████| 99/99 [00:00<00:00, 696.08it/s]\n"
     ]
    },
    {
     "name": "stdout",
     "output_type": "stream",
     "text": [
      "146 ms ± 0 ns per loop (mean ± std. dev. of 1 run, 1 loop each)\n",
      "vor dem for loop\n"
     ]
    },
    {
     "name": "stderr",
     "output_type": "stream",
     "text": [
      "100%|██████████| 99/99 [00:00<00:00, 644.13it/s]\n"
     ]
    },
    {
     "name": "stdout",
     "output_type": "stream",
     "text": [
      "158 ms ± 0 ns per loop (mean ± std. dev. of 1 run, 1 loop each)\n"
     ]
    },
    {
     "name": "stderr",
     "output_type": "stream",
     "text": [
      "100%|██████████| 99/99 [00:09<00:00, 10.44it/s]\n"
     ]
    },
    {
     "name": "stdout",
     "output_type": "stream",
     "text": [
      "9.58 s ± 0 ns per loop (mean ± std. dev. of 1 run, 1 loop each)\n"
     ]
    },
    {
     "name": "stderr",
     "output_type": "stream",
     "text": [
      "100%|██████████| 99/99 [00:06<00:00, 15.68it/s]\n"
     ]
    },
    {
     "name": "stdout",
     "output_type": "stream",
     "text": [
      "6.38 s ± 0 ns per loop (mean ± std. dev. of 1 run, 1 loop each)\n"
     ]
    },
    {
     "name": "stderr",
     "output_type": "stream",
     "text": [
      "100%|██████████| 99/99 [00:00<00:00, 190.17it/s]\n"
     ]
    },
    {
     "name": "stdout",
     "output_type": "stream",
     "text": [
      "528 ms ± 0 ns per loop (mean ± std. dev. of 1 run, 1 loop each)\n",
      "vor dem for loop\n"
     ]
    },
    {
     "name": "stderr",
     "output_type": "stream",
     "text": [
      "100%|██████████| 99/99 [00:00<00:00, 178.49it/s]\n"
     ]
    },
    {
     "name": "stdout",
     "output_type": "stream",
     "text": [
      "562 ms ± 0 ns per loop (mean ± std. dev. of 1 run, 1 loop each)\n"
     ]
    },
    {
     "name": "stderr",
     "output_type": "stream",
     "text": [
      "100%|██████████| 99/99 [00:53<00:00,  1.87it/s]\n"
     ]
    },
    {
     "name": "stdout",
     "output_type": "stream",
     "text": [
      "53.6 s ± 0 ns per loop (mean ± std. dev. of 1 run, 1 loop each)\n"
     ]
    },
    {
     "name": "stderr",
     "output_type": "stream",
     "text": [
      "100%|██████████| 99/99 [00:35<00:00,  2.83it/s]\n"
     ]
    },
    {
     "name": "stdout",
     "output_type": "stream",
     "text": [
      "35.4 s ± 0 ns per loop (mean ± std. dev. of 1 run, 1 loop each)\n"
     ]
    },
    {
     "name": "stderr",
     "output_type": "stream",
     "text": [
      "100%|██████████| 99/99 [00:01<00:00, 67.88it/s]\n"
     ]
    },
    {
     "name": "stdout",
     "output_type": "stream",
     "text": [
      "1.48 s ± 0 ns per loop (mean ± std. dev. of 1 run, 1 loop each)\n",
      "vor dem for loop\n"
     ]
    },
    {
     "name": "stderr",
     "output_type": "stream",
     "text": [
      "100%|██████████| 99/99 [00:01<00:00, 64.46it/s]"
     ]
    },
    {
     "name": "stdout",
     "output_type": "stream",
     "text": [
      "1.55 s ± 0 ns per loop (mean ± std. dev. of 1 run, 1 loop each)\n"
     ]
    },
    {
     "name": "stderr",
     "output_type": "stream",
     "text": [
      "\n"
     ]
    }
   ],
   "source": [
    "# runtime comparison\n",
    "from coordinates import *\n",
    "from verlet import *\n",
    "from verlet_slow import *\n",
    "\n",
    "TIMESTEP_RT = 0.001\n",
    "N_STEPS_RT = 100\n",
    "NUMBER_FCC_UNITS_RT = [1,2,3,4]\n",
    "\n",
    "rt1 = np.zeros(len(NUMBER_FCC_UNITS_RT))\n",
    "rt2 = np.zeros(len(NUMBER_FCC_UNITS_RT))\n",
    "rt3 = np.zeros(len(NUMBER_FCC_UNITS_RT))\n",
    "rt4 = np.zeros(len(NUMBER_FCC_UNITS_RT))\n",
    "\n",
    "for i in range(len(NUMBER_FCC_UNITS_RT)):\n",
    "    positions_ini_rt, BOX, BOXL = initialize_positions(NUMBER_FCC_UNITS_RT[i], REDUCED_DENSITY)\n",
    "    velocities_ini_rt = initialize_velocities(positions_ini_rt, REDUCED_TEMPERATURE)\n",
    "    time1 = %timeit -n 1 -r 1 -o do_md1(positions_ini_rt, velocities_ini_rt, TIMESTEP_RT, N_STEPS_RT)\n",
    "    rt1[i] = np.mean(time1.timings)\n",
    "    time1 = %timeit -n 1 -r 1 -o do_md2(positions_ini_rt, velocities_ini_rt, TIMESTEP_RT, N_STEPS_RT)\n",
    "    rt2[i] = np.mean(time1.timings)\n",
    "    time1 = %timeit -n 1 -r 1 -o do_md(positions_ini_rt, velocities_ini_rt, TIMESTEP_RT, N_STEPS_RT)\n",
    "    rt3[i] = np.mean(time1.timings)\n",
    "    time1 = %timeit -n 1 -r 1 -o do_md_pbc(positions_ini_rt, velocities_ini_rt, TIMESTEP_RT, N_STEPS_RT, BOX, BOXL)\n",
    "    rt4[i] = np.mean(time1.timings)"
   ]
  },
  {
   "cell_type": "code",
   "execution_count": 19,
   "metadata": {},
   "outputs": [
    {
     "data": {
      "text/plain": [
       "<matplotlib.legend.Legend at 0x7ffb801ca400>"
      ]
     },
     "execution_count": 19,
     "metadata": {},
     "output_type": "execute_result"
    },
    {
     "data": {
      "image/png": "[encoded data removed]",
      "text/plain": [
       "<Figure size 432x288 with 1 Axes>"
      ]
     },
     "metadata": {
      "needs_background": "light"
     },
     "output_type": "display_data"
    }
   ],
   "source": [
    "Natoms = 4 * np.array(NUMBER_FCC_UNITS_RT)**3\n",
    "#plt.scatter(Natoms, rt1, marker='o',label='do_md1')\n",
    "#plt.scatter(Natoms, rt2, marker='o', label='do_md2')\n",
    "plt.scatter(Natoms, rt3, marker='o', label='do_md')\n",
    "plt.scatter(Natoms, rt4, marker='o', label='do_md_pbc')\n",
    "plt.plot(np.linspace(0, 1.1 * Natoms[-1], 1000), 0.0058 * np.linspace(0, 1.1 * Natoms[-1], 1000), label=r\"$\\sim n$\")\n",
    "plt.plot(np.linspace(0, 1.1 * Natoms[-1], 1000), 0.000023 * np.linspace(0, 1.1 * Natoms[-1], 1000)**2, label=r\"$\\sim n^2$\")\n",
    "plt.xlabel('Number of atoms')\n",
    "plt.ylabel('avg time [s]')\n",
    "plt.title(f'Runtime for {N_STEPS_RT} timesteps')\n",
    "plt.legend()"
   ]
  },
  {
   "cell_type": "code",
   "execution_count": null,
   "metadata": {},
   "outputs": [],
   "source": []
  }
 ],
 "metadata": {
  "interpreter": {
   "hash": "40d3a090f54c6569ab1632332b64b2c03c39dcf918b08424e98f38b5ae0af88f"
  },
  "kernelspec": {
   "display_name": "Python 3.9.7 64-bit ('base': conda)",
   "language": "python",
   "name": "python3"
  },
  "language_info": {
   "codemirror_mode": {
    "name": "ipython",
    "version": 3
   },
   "file_extension": ".py",
   "mimetype": "text/x-python",
   "name": "python",
   "nbconvert_exporter": "python",
   "pygments_lexer": "ipython3",
   "version": "3.9.7"
  },
  "orig_nbformat": 4
 },
 "nbformat": 4,
 "nbformat_minor": 2
}

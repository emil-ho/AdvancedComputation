{
 "cells": [
  {
   "cell_type": "code",
   "execution_count": 3,
   "metadata": {},
   "outputs": [
    {
     "name": "stderr",
     "output_type": "stream",
     "text": [
      "  0%|          | 0/100 [00:00<?, ?it/s]/Users/emil/GIT/AdvancedComputation/MD_simulation/verlet.py:88: RuntimeWarning: divide by zero encountered in double_scalars\n",
      "  forces[:,1] = - 4 * epsilon * (12 * (sigma / r[0])**13 - 6 * (sigma / r[0])**7)\n",
      "/Users/emil/GIT/AdvancedComputation/MD_simulation/verlet.py:88: RuntimeWarning: invalid value encountered in double_scalars\n",
      "  forces[:,1] = - 4 * epsilon * (12 * (sigma / r[0])**13 - 6 * (sigma / r[0])**7)\n",
      "/Users/emil/GIT/AdvancedComputation/MD_simulation/verlet.py:89: RuntimeWarning: divide by zero encountered in double_scalars\n",
      "  forces[:,2] = - 4 * epsilon * (12 * (sigma / r[1])**13 - 6 * (sigma / r[1])**7)\n",
      "/Users/emil/GIT/AdvancedComputation/MD_simulation/verlet.py:89: RuntimeWarning: invalid value encountered in double_scalars\n",
      "  forces[:,2] = - 4 * epsilon * (12 * (sigma / r[1])**13 - 6 * (sigma / r[1])**7)\n",
      "/Users/emil/GIT/AdvancedComputation/MD_simulation/verlet.py:90: RuntimeWarning: divide by zero encountered in double_scalars\n",
      "  forces[:,3] = - 4 * epsilon * (12 * (sigma / r[2])**13 - 6 * (sigma / r[2])**7)\n",
      "/Users/emil/GIT/AdvancedComputation/MD_simulation/verlet.py:90: RuntimeWarning: invalid value encountered in double_scalars\n",
      "  forces[:,3] = - 4 * epsilon * (12 * (sigma / r[2])**13 - 6 * (sigma / r[2])**7)\n",
      "100%|██████████| 100/100 [00:07<00:00, 13.58it/s]\n"
     ]
    }
   ],
   "source": [
    "'This module executes a simulation. User input is skipped for testing purposes'\n",
    "# from MD_simulation.animation import POSITIONS\n",
    "from coordinates import *\n",
    "# from neighbours import *\n",
    "from verlet import *\n",
    "\n",
    "from fake_inputs import *\n",
    "\n",
    "positions_ini = initialize_positions(NUMBER_FCC_UNITS, REDUCED_DENSITY, SIGMA, SEE_ATOMS=False)\n",
    "velocities_ini = initialize_velocities(positions_ini, REDUCED_TEMPERATURE, False)\n",
    "# plot_velocity_hist(velocities, False)\n",
    "\n",
    "DT = 0.0002\n",
    "N_STEPS = 100\n",
    "\n",
    "res = do_md(positions_ini, velocities_ini, dt=DT, n_steps=N_STEPS)\n",
    "\n",
    "x_traj = res[0]\n",
    "v_traj = res[1]\n",
    "pot = res[2]\n",
    "kin = res[3]\n"
   ]
  },
  {
   "cell_type": "code",
   "execution_count": 5,
   "metadata": {},
   "outputs": [
    {
     "name": "stdout",
     "output_type": "stream",
     "text": [
      "[nan nan nan nan nan nan nan nan nan nan nan nan nan nan nan nan nan nan\n",
      " nan nan nan nan nan nan nan nan nan nan nan nan nan nan nan nan nan nan\n",
      " nan nan nan nan nan nan nan nan nan nan nan nan nan nan nan nan nan nan\n",
      " nan nan nan nan nan nan nan nan nan nan nan nan nan nan nan nan nan nan\n",
      " nan nan nan nan nan nan nan nan nan nan nan nan nan nan nan nan nan nan\n",
      " nan nan nan nan nan nan nan nan nan nan]\n",
      "[nan nan nan nan nan nan nan nan nan nan nan nan nan nan nan nan nan nan\n",
      " nan nan nan nan nan nan nan nan nan nan nan nan nan nan nan nan nan nan\n",
      " nan nan nan nan nan nan nan nan nan nan nan nan nan nan nan nan nan nan\n",
      " nan nan nan nan nan nan nan nan nan nan nan nan nan nan nan nan nan nan\n",
      " nan nan nan nan nan nan nan nan nan nan nan nan nan nan nan nan nan nan\n",
      " nan nan nan nan nan nan nan nan nan nan]\n",
      "[[[  0.  nan  nan  nan]\n",
      "  [  1.  nan  nan  nan]\n",
      "  [  2.  nan  nan  nan]\n",
      "  ...\n",
      "  [105.  nan  nan  nan]\n",
      "  [106.  nan  nan  nan]\n",
      "  [107.  nan  nan  nan]]\n",
      "\n",
      " [[  0.  nan  nan  nan]\n",
      "  [  1.  nan  nan  nan]\n",
      "  [  2.  nan  nan  nan]\n",
      "  ...\n",
      "  [105.  nan  nan  nan]\n",
      "  [106.  nan  nan  nan]\n",
      "  [107.  nan  nan  nan]]\n",
      "\n",
      " [[  0.  nan  nan  nan]\n",
      "  [  1.  nan  nan  nan]\n",
      "  [  2.  nan  nan  nan]\n",
      "  ...\n",
      "  [105.  nan  nan  nan]\n",
      "  [106.  nan  nan  nan]\n",
      "  [107.  nan  nan  nan]]\n",
      "\n",
      " ...\n",
      "\n",
      " [[  0.  nan  nan  nan]\n",
      "  [  1.  nan  nan  nan]\n",
      "  [  2.  nan  nan  nan]\n",
      "  ...\n",
      "  [105.  nan  nan  nan]\n",
      "  [106.  nan  nan  nan]\n",
      "  [107.  nan  nan  nan]]\n",
      "\n",
      " [[  0.  nan  nan  nan]\n",
      "  [  1.  nan  nan  nan]\n",
      "  [  2.  nan  nan  nan]\n",
      "  ...\n",
      "  [105.  nan  nan  nan]\n",
      "  [106.  nan  nan  nan]\n",
      "  [107.  nan  nan  nan]]\n",
      "\n",
      " [[  0.  nan  nan  nan]\n",
      "  [  1.  nan  nan  nan]\n",
      "  [  2.  nan  nan  nan]\n",
      "  ...\n",
      "  [105.  nan  nan  nan]\n",
      "  [106.  nan  nan  nan]\n",
      "  [107.  nan  nan  nan]]]\n"
     ]
    }
   ],
   "source": [
    "print(pot)\n",
    "print(kin)\n",
    "print(x_traj)"
   ]
  },
  {
   "cell_type": "code",
   "execution_count": 2,
   "metadata": {},
   "outputs": [
    {
     "data": {
      "image/png": "[encoded data removed]",
      "text/plain": [
       "<Figure size 432x288 with 1 Axes>"
      ]
     },
     "metadata": {
      "needs_background": "light"
     },
     "output_type": "display_data"
    }
   ],
   "source": [
    "steparr = np.arange(N_STEPS)\n",
    "\n",
    "# Plot energy\n",
    "plt.plot(steparr, pot, label=\"$E_\\mathrm{pot}$\")\n",
    "plt.plot(steparr, kin, label=\"$E_\\mathrm{kin}$\")\n",
    "plt.plot(steparr, pot + kin, label=\"$E_\\mathrm{pot} + E_\\mathrm{kin}$\")\n",
    "plt.legend()\n",
    "plt.xlabel(\"step\")\n",
    "plt.ylabel(\"Energy\")\n",
    "plt.show()"
   ]
  },
  {
   "cell_type": "code",
   "execution_count": null,
   "metadata": {},
   "outputs": [],
   "source": []
  }
 ],
 "metadata": {
  "interpreter": {
   "hash": "40d3a090f54c6569ab1632332b64b2c03c39dcf918b08424e98f38b5ae0af88f"
  },
  "kernelspec": {
   "display_name": "Python 3.9.7 64-bit ('base': conda)",
   "language": "python",
   "name": "python3"
  },
  "language_info": {
   "codemirror_mode": {
    "name": "ipython",
    "version": 3
   },
   "file_extension": ".py",
   "mimetype": "text/x-python",
   "name": "python",
   "nbconvert_exporter": "python",
   "pygments_lexer": "ipython3",
   "version": "3.9.7"
  },
  "orig_nbformat": 4
 },
 "nbformat": 4,
 "nbformat_minor": 2
}
